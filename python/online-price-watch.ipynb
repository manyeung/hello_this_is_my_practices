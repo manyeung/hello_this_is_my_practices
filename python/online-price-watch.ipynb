{
 "cells": [
  {
   "cell_type": "code",
   "execution_count": null,
   "metadata": {},
   "outputs": [],
   "source": [
    "# pip install requests\n",
    "# pip install -U ipykernel\n",
    "# pip install tabulate"
   ]
  },
  {
   "cell_type": "code",
   "execution_count": null,
   "metadata": {},
   "outputs": [],
   "source": [
    "import requests\n",
    "URL = 'https://online-price-watch.consumer.org.hk/opw/opendata/pricewatch.json'\n",
    "response = requests.get(URL)\n",
    "result = response.json()\n",
    "print('Count: %s' % (len(result)))"
   ]
  },
  {
   "cell_type": "code",
   "execution_count": null,
   "metadata": {},
   "outputs": [],
   "source": [
    "import math\n",
    "\n",
    "list = [\n",
    "    item for item in result\n",
    "    if len(item['prices']) > 1\n",
    "]\n",
    "print('Count: %s' % (len(list)))\n",
    "\n",
    "for item in list:\n",
    "    maxValue = 0\n",
    "    minValue = math.inf\n",
    "    minValue2 = math.inf\n",
    "    highPrice = item['prices'][0]\n",
    "    lowPrice = highPrice\n",
    "    lowPrice2 = None\n",
    "    for price in item['prices']:\n",
    "        if price['supermarketCode'] == 'ZTORE':\n",
    "            continue\n",
    "        value = float(price['price'])\n",
    "        if value > maxValue:\n",
    "            maxValue = value\n",
    "            highPrice = price\n",
    "        if value < minValue:\n",
    "            minValue = value\n",
    "            lowPrice = price\n",
    "        if minValue <= value and value < minValue2 and value < maxValue and price is not lowPrice:\n",
    "            minValue2 = value\n",
    "            lowPrice2 = price\n",
    "    \n",
    "    item['high_price'] = highPrice\n",
    "    item['low_price'] = lowPrice\n",
    "    item['low_price2'] = lowPrice2\n",
    "    item['price_diff'] = maxValue - minValue\n",
    "    item['price_diff_percent'] = math.floor(minValue / maxValue * 100)\n",
    "    \n",
    "print(list[0])"
   ]
  },
  {
   "cell_type": "code",
   "execution_count": null,
   "metadata": {},
   "outputs": [],
   "source": [
    "from tabulate import tabulate\n",
    "\n",
    "table = [\n",
    "    [\"Sun\",696000,1989100000],\n",
    "    [\"Earth\",6371,5973.6],\n",
    "    [\"Moon\",1737,73.5],\n",
    "    [\"Mars\",3390,641.85]\n",
    "]\n",
    "print(tabulate(table))"
   ]
  },
  {
   "cell_type": "code",
   "execution_count": null,
   "metadata": {},
   "outputs": [],
   "source": [
    "def get_price_diff(item):\n",
    "    return item.get('price_diff')\n",
    "\n",
    "def get_price_diff_percent(item):\n",
    "    return item.get('price_diff_percent')\n",
    "\n",
    "list.sort(key=get_price_diff_percent)\n",
    "\n",
    "table = [\n",
    "    [\n",
    "        item['code'], \n",
    "        # item['cat1Name']['zh-Hant'],\n",
    "        '%s - %s' % (item['brand']['zh-Hant'], item['name']['zh-Hant']),\n",
    "        # item['price_diff'], \n",
    "        item['price_diff_percent'],\n",
    "        # item['low_price']['supermarketCode'], item['low_price']['price'], \n",
    "        # item['high_price']['supermarketCode'], item['high_price']['price'], \n",
    "        ('%s (%s), %s (%s)' % (item['low_price']['price'], item['low_price']['supermarketCode'], item['high_price']['price'],  item['high_price']['supermarketCode'])) if item['low_price2'] is None else ('%s (%s), %s (%s), %s (%s)' % (item['low_price']['price'], item['low_price']['supermarketCode'], item['low_price2']['price'], item['low_price2']['supermarketCode'], item['high_price']['price'],  item['high_price']['supermarketCode']))\n",
    "    ]\n",
    "    for item in list\n",
    "    if item['price_diff'] > 0\n",
    "]\n",
    "\n",
    "print(tabulate(\n",
    "    table, \n",
    "    headers=[\n",
    "        'Code', 'Name', \n",
    "        # 'Highest - Lowest', \n",
    "        'Lowest / Highest (%)',\n",
    "        # 'Supermarket (Lowest Price)', 'Lowest Price',\n",
    "        # 'Supermarket (Highest Price)', 'Highest Price',\n",
    "        'Price [Lowest, 2nd Lowest, Highest]',\n",
    "    ],\n",
    "    tablefmt=\"simple\",\n",
    "    floatfmt=\".1f\",\n",
    "    numalign=\"left\"\n",
    "))"
   ]
  }
 ],
 "metadata": {
  "kernelspec": {
   "display_name": "venv",
   "language": "python",
   "name": "python3"
  },
  "language_info": {
   "codemirror_mode": {
    "name": "ipython",
    "version": 3
   },
   "file_extension": ".py",
   "mimetype": "text/x-python",
   "name": "python",
   "nbconvert_exporter": "python",
   "pygments_lexer": "ipython3",
   "version": "3.10.4"
  },
  "orig_nbformat": 4
 },
 "nbformat": 4,
 "nbformat_minor": 2
}
